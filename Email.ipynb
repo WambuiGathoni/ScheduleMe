{
  "cells": [
    {
      "cell_type": "markdown",
      "metadata": {
        "id": "nO4BjRM-EXKu"
      },
      "source": [
        "**Final Project: Reading Emails **bold text** </br>\n",
        "The program gets required credentials to access gmail(jackline.w.gathoni.24@dartmouth.edu) and returns extracted details from the email which include the subject, sender, recipient and body. </br>\n",
        "Dartmouth College, LING48, Spring 2023 </br>\n",
        "Jackline Gathoni Wambui (jackline.w.gathoni.24@dartmouth.edu) </br>\n",
        "Dahlia Igiraneza (dahlia.igiraneza.24@dartmouth.edu) </br>\n",
        "Paige Nakai (paige.m.nakai.24@dartmouth.edu) </br>\n",
        "\n"
      ]
    },
    {
      "cell_type": "code",
      "execution_count": 1,
      "metadata": {
        "colab": {
          "base_uri": "https://localhost:8080/"
        },
        "id": "y-KAyCxeCWeK",
        "outputId": "ff737686-63eb-4202-bcb5-2c9de5ff5127"
      },
      "outputs": [
        {
          "name": "stdout",
          "output_type": "stream",
          "text": [
            "Looking in indexes: https://pypi.org/simple, https://us-python.pkg.dev/colab-wheels/public/simple/\n",
            "Requirement already satisfied: google-api-python-client in /usr/local/lib/python3.10/dist-packages (2.88.0)\n",
            "Requirement already satisfied: google-auth-httplib2 in /usr/local/lib/python3.10/dist-packages (0.1.0)\n",
            "Requirement already satisfied: google-auth-oauthlib in /usr/local/lib/python3.10/dist-packages (1.0.0)\n",
            "Requirement already satisfied: httplib2<1dev,>=0.15.0 in /usr/local/lib/python3.10/dist-packages (from google-api-python-client) (0.21.0)\n",
            "Requirement already satisfied: google-auth<3.0.0dev,>=1.19.0 in /usr/local/lib/python3.10/dist-packages (from google-api-python-client) (2.17.3)\n",
            "Requirement already satisfied: google-api-core!=2.0.*,!=2.1.*,!=2.2.*,!=2.3.0,<3.0.0dev,>=1.31.5 in /usr/local/lib/python3.10/dist-packages (from google-api-python-client) (2.11.0)\n",
            "Requirement already satisfied: uritemplate<5,>=3.0.1 in /usr/local/lib/python3.10/dist-packages (from google-api-python-client) (4.1.1)\n",
            "Requirement already satisfied: six in /usr/local/lib/python3.10/dist-packages (from google-auth-httplib2) (1.16.0)\n",
            "Requirement already satisfied: requests-oauthlib>=0.7.0 in /usr/local/lib/python3.10/dist-packages (from google-auth-oauthlib) (1.3.1)\n",
            "Requirement already satisfied: googleapis-common-protos<2.0dev,>=1.56.2 in /usr/local/lib/python3.10/dist-packages (from google-api-core!=2.0.*,!=2.1.*,!=2.2.*,!=2.3.0,<3.0.0dev,>=1.31.5->google-api-python-client) (1.59.0)\n",
            "Requirement already satisfied: protobuf!=3.20.0,!=3.20.1,!=4.21.0,!=4.21.1,!=4.21.2,!=4.21.3,!=4.21.4,!=4.21.5,<5.0.0dev,>=3.19.5 in /usr/local/lib/python3.10/dist-packages (from google-api-core!=2.0.*,!=2.1.*,!=2.2.*,!=2.3.0,<3.0.0dev,>=1.31.5->google-api-python-client) (3.20.3)\n",
            "Requirement already satisfied: requests<3.0.0dev,>=2.18.0 in /usr/local/lib/python3.10/dist-packages (from google-api-core!=2.0.*,!=2.1.*,!=2.2.*,!=2.3.0,<3.0.0dev,>=1.31.5->google-api-python-client) (2.27.1)\n",
            "Requirement already satisfied: cachetools<6.0,>=2.0.0 in /usr/local/lib/python3.10/dist-packages (from google-auth<3.0.0dev,>=1.19.0->google-api-python-client) (5.3.0)\n",
            "Requirement already satisfied: pyasn1-modules>=0.2.1 in /usr/local/lib/python3.10/dist-packages (from google-auth<3.0.0dev,>=1.19.0->google-api-python-client) (0.3.0)\n",
            "Requirement already satisfied: rsa<5,>=3.1.4 in /usr/local/lib/python3.10/dist-packages (from google-auth<3.0.0dev,>=1.19.0->google-api-python-client) (4.9)\n",
            "Requirement already satisfied: pyparsing!=3.0.0,!=3.0.1,!=3.0.2,!=3.0.3,<4,>=2.4.2 in /usr/local/lib/python3.10/dist-packages (from httplib2<1dev,>=0.15.0->google-api-python-client) (3.0.9)\n",
            "Requirement already satisfied: oauthlib>=3.0.0 in /usr/local/lib/python3.10/dist-packages (from requests-oauthlib>=0.7.0->google-auth-oauthlib) (3.2.2)\n",
            "Requirement already satisfied: pyasn1<0.6.0,>=0.4.6 in /usr/local/lib/python3.10/dist-packages (from pyasn1-modules>=0.2.1->google-auth<3.0.0dev,>=1.19.0->google-api-python-client) (0.5.0)\n",
            "Requirement already satisfied: urllib3<1.27,>=1.21.1 in /usr/local/lib/python3.10/dist-packages (from requests<3.0.0dev,>=2.18.0->google-api-core!=2.0.*,!=2.1.*,!=2.2.*,!=2.3.0,<3.0.0dev,>=1.31.5->google-api-python-client) (1.26.15)\n",
            "Requirement already satisfied: certifi>=2017.4.17 in /usr/local/lib/python3.10/dist-packages (from requests<3.0.0dev,>=2.18.0->google-api-core!=2.0.*,!=2.1.*,!=2.2.*,!=2.3.0,<3.0.0dev,>=1.31.5->google-api-python-client) (2022.12.7)\n",
            "Requirement already satisfied: charset-normalizer~=2.0.0 in /usr/local/lib/python3.10/dist-packages (from requests<3.0.0dev,>=2.18.0->google-api-core!=2.0.*,!=2.1.*,!=2.2.*,!=2.3.0,<3.0.0dev,>=1.31.5->google-api-python-client) (2.0.12)\n",
            "Requirement already satisfied: idna<4,>=2.5 in /usr/local/lib/python3.10/dist-packages (from requests<3.0.0dev,>=2.18.0->google-api-core!=2.0.*,!=2.1.*,!=2.2.*,!=2.3.0,<3.0.0dev,>=1.31.5->google-api-python-client) (3.4)\n"
          ]
        }
      ],
      "source": [
        "#install necessary packages\n",
        "!pip install --upgrade google-api-python-client google-auth-httplib2 google-auth-oauthlib"
      ]
    },
    {
      "cell_type": "code",
      "execution_count": 1,
      "metadata": {
        "id": "FEKHP5j5CrYi"
      },
      "outputs": [],
      "source": [
        "#Get credentials from gmail API(jackline.w.gathoni.24@dartmouth.edu)\n",
        "#Code from https://developers.google.com/gmail/api/quickstart/python \n",
        "from __future__ import print_function\n",
        "\n",
        "import os.path\n",
        "\n",
        "from google.auth.transport.requests import Request\n",
        "from google.oauth2.credentials import Credentials\n",
        "from google_auth_oauthlib.flow import InstalledAppFlow\n",
        "from googleapiclient.discovery import build\n",
        "from googleapiclient.errors import HttpError\n",
        "\n",
        "# If modifying these scopes, delete the file token.json.\n",
        "SCOPES = ['https://www.googleapis.com/auth/gmail.modify']\n",
        "\n",
        "\n",
        "def getService():\n",
        "    \"\"\"Shows basic usage of the Gmail API.\n",
        "    Lists the user's Gmail labels.\n",
        "    \"\"\"\n",
        "    creds = None\n",
        "    # The file token.json stores the user's access and refresh tokens, and is\n",
        "    # created automatically when the authorization flow completes for the first\n",
        "    # time.\n",
        "    if os.path.exists('gmail_token.json'):\n",
        "        creds = Credentials.from_authorized_user_file('gmail_token.json', SCOPES)\n",
        "    # If there are no (valid) credentials available, let the user log in.\n",
        "    if not creds or not creds.valid:\n",
        "        if creds and creds.expired and creds.refresh_token:\n",
        "            creds.refresh(Request())\n",
        "        else:\n",
        "            flow = InstalledAppFlow.from_client_secrets_file(\n",
        "                'credentials.json', SCOPES)\n",
        "            creds = flow.run_local_server(port=0)\n",
        "        # Save the credentials for the next run\n",
        "        with open('gmail_token.json', 'w') as token:\n",
        "            token.write(creds.to_json())\n",
        "\n",
        "    try:\n",
        "        # Call the Gmail API\n",
        "        service = build('gmail', 'v1', credentials=creds)\n",
        "        return service\n",
        "\n",
        "    except HttpError as error:\n",
        "        # TODO(developer) - Handle errors from gmail API.\n",
        "        print(f'An error occurred: {error}')\n",
        "\n"
      ]
    },
    {
      "cell_type": "markdown",
      "metadata": {
        "id": "XDk_0rAJET6s"
      },
      "source": []
    },
    {
      "cell_type": "code",
      "execution_count": 3,
      "metadata": {
        "id": "RtXWZ6SfCujq"
      },
      "outputs": [],
      "source": [
        "# Reads incoming emails to check if theyre related to shift-dropping or not and then parse for relevant info(date, time and location).\n",
        "import base64\n",
        "def getEmails(service):\n",
        "    email_details={}\n",
        "    # to read new messages, get unread specifically,  # add check for no new messages if you decide to do unread messages only\n",
        "    # results = service.users().messages().list(userId=\"me\", labelIds=[\"INBOX\"], q=\"from:specific email, is:unread\").execute()\n",
        "    results = service.users().messages().list(maxResults=1, userId='me', labelIds=[\"INBOX\"]).execute()\n",
        "\n",
        "   \n",
        "    messages = results.get('messages')  # messages is a list of dictionaries where each dictionary contains a message id.\n",
        "  \n",
        "   \n",
        "    # iterate through all the messages\n",
        "    for msg in messages:\n",
        "        # Get the message from its id\n",
        "        txt = service.users().messages().get(userId='me', id=msg['id']).execute()\n",
        "  \n",
        "        # Use try-except to avoid any Errors\n",
        "        try:\n",
        "            # Get value of 'payload' from dictionary 'txt'\n",
        "            payload = txt['payload']\n",
        "            headers = payload['headers']\n",
        "            parts = payload.get('parts')\n",
        "         \n",
        "  \n",
        "            # Look for Subject, Sender Email and other Recipient emails in the headers\n",
        "            for d in headers:\n",
        "                if d['name'] == 'Subject':\n",
        "                    subject = d['value']\n",
        "                if d['name'] == 'From':\n",
        "                    sender = d['value']\n",
        "                if d['name'] == 'To':\n",
        "                    recipient = d['value']\n",
        "                \n",
        "  \n",
        "            # from stacksoiverflow to decode the body into plain text\n",
        "            for part in parts:\n",
        "                if part[\"mimeType\"] in [\"text/plain\"]:\n",
        "                    data = base64.urlsafe_b64decode(part[\"body\"][\"data\"]).decode(\"utf-8\")\n",
        "                   \n",
        "\n",
        "            #add parts of the email to the email dictionary to be used in sending an automated response when available\n",
        "            email_details[\"Subject\"]=subject\n",
        "            email_details[\"Sender\"]= sender\n",
        "            email_details[\"Message\"]= subject +' \\n' + data  #adds the subject to the body of the email in case the subject contains relevant information\n",
        "            email_details[\"Recipients\"]= recipient\n",
        "            \n",
        "        except:\n",
        "            pass\n",
        "    return email_details\n",
        "  \n",
        "  "
      ]
    },
    {
      "cell_type": "code",
      "execution_count": 4,
      "metadata": {
        "colab": {
          "base_uri": "https://localhost:8080/",
          "height": 329
        },
        "id": "OKcYmzdyC-Kb",
        "outputId": "9a5922e8-abfc-467b-a3d0-70e050b27948"
      },
      "outputs": [
        {
          "data": {
            "text/plain": [
              "{'Subject': 'CPT',\n",
              " 'Sender': '\"Keriann K. Niles\" <Keriann.K.Niles@dartmouth.edu>'}"
            ]
          },
          "execution_count": 4,
          "metadata": {},
          "output_type": "execute_result"
        }
      ],
      "source": [
        "service =getService()\n",
        "getEmails(service)"
      ]
    }
  ],
  "metadata": {
    "colab": {
      "provenance": []
    },
    "kernelspec": {
      "display_name": "Python 3.11.3 64-bit",
      "language": "python",
      "name": "python3"
    },
    "language_info": {
      "codemirror_mode": {
        "name": "ipython",
        "version": 3
      },
      "file_extension": ".py",
      "mimetype": "text/x-python",
      "name": "python",
      "nbconvert_exporter": "python",
      "pygments_lexer": "ipython3",
      "version": "3.11.3"
    },
    "vscode": {
      "interpreter": {
        "hash": "b0fa6594d8f4cbf19f97940f81e996739fb7646882a419484c72d19e05852a7e"
      }
    }
  },
  "nbformat": 4,
  "nbformat_minor": 0
}
